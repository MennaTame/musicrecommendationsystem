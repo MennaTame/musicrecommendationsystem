{
 "cells": [
  {
   "cell_type": "code",
   "execution_count": 1,
   "id": "6f8a0881",
   "metadata": {},
   "outputs": [],
   "source": [
    "import pandas as pd\n",
    "from sklearn.model_selection import train_test_split\n",
    "from sklearn.ensemble import RandomForestRegressor\n",
    "from sklearn.metrics import mean_squared_error\n",
    "from sklearn.preprocessing import StandardScaler\n",
    "import matplotlib.pyplot as plt\n",
    "import spotipy\n",
    "from spotipy.oauth2 import SpotifyClientCredentials\n",
    "import pandas as pd\n",
    "from sklearn.model_selection import train_test_split\n",
    "from sklearn.ensemble import RandomForestClassifier\n",
    "from sklearn.metrics import accuracy_score\n",
    "from datetime import datetime, timedelta\n",
    "import random"
   ]
  },
  {
   "cell_type": "code",
   "execution_count": 2,
   "id": "46b997f2",
   "metadata": {},
   "outputs": [],
   "source": [
    "# Load the dataset\n",
    "data = pd.read_csv('data (1).csv')"
   ]
  },
  {
   "cell_type": "code",
   "execution_count": 4,
   "id": "a84a02b9",
   "metadata": {},
   "outputs": [
    {
     "name": "stdout",
     "output_type": "stream",
     "text": [
      "<class 'pandas.core.frame.DataFrame'>\n",
      "RangeIndex: 100 entries, 0 to 99\n",
      "Data columns (total 16 columns):\n",
      " #   Column            Non-Null Count  Dtype  \n",
      "---  ------            --------------  -----  \n",
      " 0   id                100 non-null    object \n",
      " 1   name              100 non-null    object \n",
      " 2   duration          100 non-null    float64\n",
      " 3   energy            100 non-null    float64\n",
      " 4   key               100 non-null    int64  \n",
      " 5   loudness          100 non-null    float64\n",
      " 6   mode              100 non-null    int64  \n",
      " 7   speechiness       100 non-null    float64\n",
      " 8   acousticness      100 non-null    float64\n",
      " 9   instrumentalness  100 non-null    float64\n",
      " 10  liveness          100 non-null    float64\n",
      " 11  valence           100 non-null    float64\n",
      " 12  tempo             100 non-null    float64\n",
      " 13  danceability      100 non-null    float64\n",
      " 14  repeated_plays    100 non-null    int64  \n",
      " 15  timestamp         100 non-null    object \n",
      "dtypes: float64(10), int64(3), object(3)\n",
      "memory usage: 12.6+ KB\n"
     ]
    }
   ],
   "source": [
    "data.info()"
   ]
  },
  {
   "cell_type": "code",
   "execution_count": 16,
   "id": "fc3d1b63",
   "metadata": {},
   "outputs": [
    {
     "data": {
      "text/html": [
       "<div>\n",
       "<style scoped>\n",
       "    .dataframe tbody tr th:only-of-type {\n",
       "        vertical-align: middle;\n",
       "    }\n",
       "\n",
       "    .dataframe tbody tr th {\n",
       "        vertical-align: top;\n",
       "    }\n",
       "\n",
       "    .dataframe thead th {\n",
       "        text-align: right;\n",
       "    }\n",
       "</style>\n",
       "<table border=\"1\" class=\"dataframe\">\n",
       "  <thead>\n",
       "    <tr style=\"text-align: right;\">\n",
       "      <th></th>\n",
       "      <th>id</th>\n",
       "      <th>name</th>\n",
       "      <th>duration</th>\n",
       "      <th>energy</th>\n",
       "      <th>key</th>\n",
       "      <th>loudness</th>\n",
       "      <th>mode</th>\n",
       "      <th>speechiness</th>\n",
       "      <th>acousticness</th>\n",
       "      <th>instrumentalness</th>\n",
       "      <th>liveness</th>\n",
       "      <th>valence</th>\n",
       "      <th>tempo</th>\n",
       "      <th>danceability</th>\n",
       "      <th>repeated_plays</th>\n",
       "      <th>timestamp</th>\n",
       "      <th>month</th>\n",
       "    </tr>\n",
       "  </thead>\n",
       "  <tbody>\n",
       "    <tr>\n",
       "      <th>0</th>\n",
       "      <td>4ZtFanR9U6ndgddUvNcjcG</td>\n",
       "      <td>Good 4 U Olivia Rodrigo</td>\n",
       "      <td>-0.471500</td>\n",
       "      <td>0.456013</td>\n",
       "      <td>1.037768</td>\n",
       "      <td>0.629600</td>\n",
       "      <td>0.886405</td>\n",
       "      <td>1.159703</td>\n",
       "      <td>0.073163</td>\n",
       "      <td>-0.320070</td>\n",
       "      <td>-0.685478</td>\n",
       "      <td>0.722094</td>\n",
       "      <td>1.564684</td>\n",
       "      <td>-0.672180</td>\n",
       "      <td>1</td>\n",
       "      <td>2024-06-29 08:00:00</td>\n",
       "      <td>6</td>\n",
       "    </tr>\n",
       "    <tr>\n",
       "      <th>1</th>\n",
       "      <td>5fxyZf6m2xHeSrOzUfcJrq</td>\n",
       "      <td>Stay The Kid LAROI &amp; Justin Bieber</td>\n",
       "      <td>-1.197885</td>\n",
       "      <td>-0.487669</td>\n",
       "      <td>0.775042</td>\n",
       "      <td>-1.929258</td>\n",
       "      <td>0.886405</td>\n",
       "      <td>-0.244539</td>\n",
       "      <td>0.230493</td>\n",
       "      <td>3.610481</td>\n",
       "      <td>-0.461556</td>\n",
       "      <td>-0.268084</td>\n",
       "      <td>1.672467</td>\n",
       "      <td>-0.664262</td>\n",
       "      <td>0</td>\n",
       "      <td>2024-06-29 08:00:00</td>\n",
       "      <td>6</td>\n",
       "    </tr>\n",
       "    <tr>\n",
       "      <th>2</th>\n",
       "      <td>5nujrmhLynf4yMoMtj8AQF</td>\n",
       "      <td>Levitating Dua Lipa feat. DaBaby</td>\n",
       "      <td>-0.026996</td>\n",
       "      <td>1.417613</td>\n",
       "      <td>0.249590</td>\n",
       "      <td>1.145807</td>\n",
       "      <td>-1.128152</td>\n",
       "      <td>-0.226820</td>\n",
       "      <td>-1.093115</td>\n",
       "      <td>-0.320070</td>\n",
       "      <td>-0.841598</td>\n",
       "      <td>1.682651</td>\n",
       "      <td>-0.640333</td>\n",
       "      <td>0.428326</td>\n",
       "      <td>1</td>\n",
       "      <td>2024-06-29 09:20:00</td>\n",
       "      <td>6</td>\n",
       "    </tr>\n",
       "    <tr>\n",
       "      <th>3</th>\n",
       "      <td>4iJyoBOLtHqaGxP12qzhQI</td>\n",
       "      <td>Peaches Justin Bieber feat. Daniel Caesar &amp; Gi...</td>\n",
       "      <td>-0.113728</td>\n",
       "      <td>0.647139</td>\n",
       "      <td>-1.326767</td>\n",
       "      <td>0.162673</td>\n",
       "      <td>0.886405</td>\n",
       "      <td>0.642894</td>\n",
       "      <td>0.023104</td>\n",
       "      <td>-0.320070</td>\n",
       "      <td>2.304014</td>\n",
       "      <td>-0.225769</td>\n",
       "      <td>-1.086743</td>\n",
       "      <td>0.230394</td>\n",
       "      <td>0</td>\n",
       "      <td>2024-06-29 10:20:00</td>\n",
       "      <td>6</td>\n",
       "    </tr>\n",
       "    <tr>\n",
       "      <th>4</th>\n",
       "      <td>1SC5rEoYDGUK4NfG82494W</td>\n",
       "      <td>Montero (Call Me By Your Name) Lil Nas X</td>\n",
       "      <td>-1.197885</td>\n",
       "      <td>-0.505587</td>\n",
       "      <td>0.775042</td>\n",
       "      <td>-0.060729</td>\n",
       "      <td>-1.128152</td>\n",
       "      <td>2.134255</td>\n",
       "      <td>-0.077015</td>\n",
       "      <td>-0.320070</td>\n",
       "      <td>2.170196</td>\n",
       "      <td>0.815187</td>\n",
       "      <td>1.973372</td>\n",
       "      <td>-0.434660</td>\n",
       "      <td>1</td>\n",
       "      <td>2024-06-29 11:20:00</td>\n",
       "      <td>6</td>\n",
       "    </tr>\n",
       "  </tbody>\n",
       "</table>\n",
       "</div>"
      ],
      "text/plain": [
       "                       id                                               name  \\\n",
       "0  4ZtFanR9U6ndgddUvNcjcG                            Good 4 U Olivia Rodrigo   \n",
       "1  5fxyZf6m2xHeSrOzUfcJrq                 Stay The Kid LAROI & Justin Bieber   \n",
       "2  5nujrmhLynf4yMoMtj8AQF                   Levitating Dua Lipa feat. DaBaby   \n",
       "3  4iJyoBOLtHqaGxP12qzhQI  Peaches Justin Bieber feat. Daniel Caesar & Gi...   \n",
       "4  1SC5rEoYDGUK4NfG82494W           Montero (Call Me By Your Name) Lil Nas X   \n",
       "\n",
       "   duration    energy       key  loudness      mode  speechiness  \\\n",
       "0 -0.471500  0.456013  1.037768  0.629600  0.886405     1.159703   \n",
       "1 -1.197885 -0.487669  0.775042 -1.929258  0.886405    -0.244539   \n",
       "2 -0.026996  1.417613  0.249590  1.145807 -1.128152    -0.226820   \n",
       "3 -0.113728  0.647139 -1.326767  0.162673  0.886405     0.642894   \n",
       "4 -1.197885 -0.505587  0.775042 -0.060729 -1.128152     2.134255   \n",
       "\n",
       "   acousticness  instrumentalness  liveness   valence     tempo  danceability  \\\n",
       "0      0.073163         -0.320070 -0.685478  0.722094  1.564684     -0.672180   \n",
       "1      0.230493          3.610481 -0.461556 -0.268084  1.672467     -0.664262   \n",
       "2     -1.093115         -0.320070 -0.841598  1.682651 -0.640333      0.428326   \n",
       "3      0.023104         -0.320070  2.304014 -0.225769 -1.086743      0.230394   \n",
       "4     -0.077015         -0.320070  2.170196  0.815187  1.973372     -0.434660   \n",
       "\n",
       "   repeated_plays           timestamp  month  \n",
       "0               1 2024-06-29 08:00:00      6  \n",
       "1               0 2024-06-29 08:00:00      6  \n",
       "2               1 2024-06-29 09:20:00      6  \n",
       "3               0 2024-06-29 10:20:00      6  \n",
       "4               1 2024-06-29 11:20:00      6  "
      ]
     },
     "execution_count": 16,
     "metadata": {},
     "output_type": "execute_result"
    }
   ],
   "source": [
    "data.head()"
   ]
  },
  {
   "cell_type": "code",
   "execution_count": 36,
   "id": "59efa3e9",
   "metadata": {},
   "outputs": [],
   "source": [
    "# Data preprocessing\n",
    "data['timestamp'] = pd.to_datetime(data['timestamp'])\n",
    "data['month'] = data['timestamp'].dt.month\n",
    "\n",
    "features = ['duration', 'energy', 'key', 'loudness', 'mode', 'speechiness', 'acousticness', \n",
    "            'instrumentalness', 'liveness', 'valence', 'tempo', 'danceability']\n",
    "scaler = StandardScaler()\n",
    "data[features] = scaler.fit_transform(data[features])\n"
   ]
  },
  {
   "cell_type": "code",
   "execution_count": 19,
   "id": "8dfdd2a2",
   "metadata": {},
   "outputs": [],
   "source": [
    "# Splitting the data\n",
    "X = data[features]\n",
    "y = data['repeated_plays']\n",
    "X_train, X_test, y_train, y_test = train_test_split(X, y, test_size=0.2, random_state=42)\n"
   ]
  },
  {
   "cell_type": "code",
   "execution_count": 20,
   "id": "7737167f",
   "metadata": {},
   "outputs": [
    {
     "name": "stdout",
     "output_type": "stream",
     "text": [
      "Mean Squared Error: 0.27478975416666673\n"
     ]
    }
   ],
   "source": [
    "# Training the model\n",
    "model = RandomForestRegressor(n_estimators=100, random_state=42)\n",
    "model.fit(X_train, y_train)\n",
    "\n",
    "# Evaluating the model\n",
    "y_pred = model.predict(X_test)\n",
    "mse = mean_squared_error(y_test, y_pred)\n",
    "print(f'Mean Squared Error: {mse}')"
   ]
  },
  {
   "cell_type": "code",
   "execution_count": 21,
   "id": "70fee114",
   "metadata": {},
   "outputs": [
    {
     "data": {
      "image/png": "[encoded data removed]",
      "text/plain": [
       "<Figure size 640x480 with 1 Axes>"
      ]
     },
     "metadata": {},
     "output_type": "display_data"
    }
   ],
   "source": [
    "plt.scatter(y_test, y_pred)\n",
    "plt.xlabel('Actual Repeated Plays')\n",
    "plt.ylabel('Predicted Repeated Plays')\n",
    "plt.title('Actual vs Predicted Repeated Plays')\n",
    "plt.show()"
   ]
  },
  {
   "cell_type": "code",
   "execution_count": 23,
   "id": "5c20a8dc",
   "metadata": {},
   "outputs": [],
   "source": [
    "# Set up Spotify API credentials\n",
    "client_id = \"ddcb1546db454508af5cc833be559952\"\n",
    "client_secret = \"adaeeaf215124e3a8c46373486f0b84f\"\n",
    "client_credentials_manager = SpotifyClientCredentials(client_id, client_secret)\n",
    "sp = spotipy.Spotify(client_credentials_manager=client_credentials_manager)"
   ]
  },
  {
   "cell_type": "code",
   "execution_count": 24,
   "id": "2e6bc04d",
   "metadata": {},
   "outputs": [],
   "source": [
    "def recommend_music(seed_track):\n",
    "    # Get the track ID of the seed track\n",
    "    results = sp.search(q=seed_track, type='track', limit=1)\n",
    "    seed_track_id = results['tracks']['items'][0]['id']\n",
    "    \n",
    "    # Get recommended tracks based on the seed track\n",
    "    recommendations = sp.recommendations(seed_tracks=[seed_track_id])\n",
    "    \n",
    "    # Extract the recommended track names\n",
    "    recommended_tracks = [track['name'] for track in recommendations['tracks']]\n",
    "    \n",
    "    return recommended_tracks"
   ]
  },
  {
   "cell_type": "code",
   "execution_count": 25,
   "id": "a41bbd3b",
   "metadata": {},
   "outputs": [
    {
     "name": "stderr",
     "output_type": "stream",
     "text": [
      "Couldn't read cache at: .cache\n",
      "Couldn't write token to cache at: .cache\n",
      "Couldn't read cache at: .cache\n",
      "Couldn't write token to cache at: .cache\n"
     ]
    },
    {
     "name": "stdout",
     "output_type": "stream",
     "text": [
      "Recommended tracks:\n",
      "The Sweet Escape\n",
      "Love Me Like You\n",
      "Little Bit of Love\n",
      "Mercy\n",
      "Cool for the Summer\n",
      "Bite Me\n",
      "that way\n",
      "Espresso\n",
      "positions\n",
      "SNAP\n",
      "Light Switch\n",
      "Dance The Night - From Barbie The Album\n",
      "Monster (Shawn Mendes & Justin Bieber)\n",
      "she's all i wanna be\n",
      "OUT OUT (feat. Charli XCX & Saweetie)\n",
      "happier\n",
      "motive (with Doja Cat)\n",
      "2 Be Loved (Am I Ready)\n",
      "LUNCH\n",
      "Deal With It (feat. Kelis)\n"
     ]
    }
   ],
   "source": [
    "# Example usage\n",
    "seed_track = \"Good 4 U Olivia Rodrigo\"  \n",
    "recommended_tracks = recommend_music(seed_track)\n",
    "print(\"Recommended tracks:\")\n",
    "for track in recommended_tracks:\n",
    "    print(track)"
   ]
  },
  {
   "cell_type": "code",
   "execution_count": 26,
   "id": "c1ccb60f",
   "metadata": {},
   "outputs": [
    {
     "name": "stderr",
     "output_type": "stream",
     "text": [
      "Couldn't read cache at: .cache\n",
      "Couldn't write token to cache at: .cache\n",
      "Couldn't read cache at: .cache\n",
      "Couldn't write token to cache at: .cache\n"
     ]
    },
    {
     "name": "stdout",
     "output_type": "stream",
     "text": [
      "Recommended tracks:\n",
      "You Need To Calm Down\n",
      "Dusk Till Dawn (feat. Sia) - Radio Edit\n",
      "Who Do You Love\n",
      "Psycho (feat. Ty Dolla $ign)\n",
      "Solo (feat. Demi Lovato)\n",
      "thank u, next\n",
      "Or Nah (feat. The Weeknd, Wiz Khalifa & DJ Mustard) - Remix\n",
      "Bad Liar\n",
      "Just the Way You Are\n",
      "bad guy\n",
      "High Hopes\n",
      "Blinding Lights (with ROSALÍA) - Remix\n",
      "Get Lucky (Radio Edit) [feat. Pharrell Williams and Nile Rodgers]\n",
      "Calm Down (with Selena Gomez)\n",
      "I Don’t Wanna Live Forever (Fifty Shades Darker)\n",
      "SICKO MODE\n",
      "Hollywood's Bleeding\n",
      "New Rules\n",
      "fuck, i'm lonely\n",
      "What A Man Gotta Do\n"
     ]
    }
   ],
   "source": [
    "# Example usage\n",
    "seed_track = \"Blinding Lights\"  \n",
    "recommended_tracks = recommend_music(seed_track)\n",
    "print(\"Recommended tracks:\")\n",
    "for track in recommended_tracks:\n",
    "    print(track)"
   ]
  },
  {
   "cell_type": "code",
   "execution_count": 27,
   "id": "d495f555",
   "metadata": {},
   "outputs": [
    {
     "name": "stdout",
     "output_type": "stream",
     "text": [
      "             timestamp\n",
      "0  2024-01-31 23:17:21\n",
      "1  2024-01-15 12:43:28\n",
      "2  2024-01-01 13:55:15\n",
      "3  2024-01-12 21:12:03\n",
      "4  2024-01-05 21:38:50\n",
      "..                 ...\n",
      "95 2024-01-05 14:00:37\n",
      "96 2024-01-13 05:54:15\n",
      "97 2024-01-26 09:48:26\n",
      "98 2024-01-10 15:08:49\n",
      "99 2024-01-17 02:53:24\n",
      "\n",
      "[100 rows x 1 columns]\n"
     ]
    }
   ],
   "source": [
    "# Generate 100 timestamps within a timeframe\n",
    "start_date = datetime(2024, 1, 1)\n",
    "end_date = datetime(2024, 1, 31)\n",
    "\n",
    "timestamps = [start_date + timedelta(days=random.randint(0, 30),\n",
    "                                     hours=random.randint(0, 23),\n",
    "                                     minutes=random.randint(0, 59),\n",
    "                                     seconds=random.randint(0, 59))\n",
    "              for _ in range(100)]\n",
    "\n",
    "# Create a DataFrame with timestamps\n",
    "df_timestamps = pd.DataFrame({'timestamp': timestamps})\n",
    "# Display the DataFrame\n",
    "print(df_timestamps)"
   ]
  },
  {
   "cell_type": "code",
   "execution_count": null,
   "id": "7aa76b79",
   "metadata": {},
   "outputs": [],
   "source": []
  }
 ],
 "metadata": {
  "kernelspec": {
   "display_name": "Python 3 (ipykernel)",
   "language": "python",
   "name": "python3"
  },
  "language_info": {
   "codemirror_mode": {
    "name": "ipython",
    "version": 3
   },
   "file_extension": ".py",
   "mimetype": "text/x-python",
   "name": "python",
   "nbconvert_exporter": "python",
   "pygments_lexer": "ipython3",
   "version": "3.9.13"
  }
 },
 "nbformat": 4,
 "nbformat_minor": 5
}
